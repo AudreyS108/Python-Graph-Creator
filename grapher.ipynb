{
 "cells": [
  {
   "cell_type": "code",
   "execution_count": null,
   "id": "1c236b9d-c9a0-4989-bf62-b9aa6e458cbf",
   "metadata": {},
   "outputs": [],
   "source": [
    "# TO DO:   add bar graph, done\n",
    "import pandas as pd\n",
    "import numpy as np\n",
    "import matplotlib.pyplot as plt\n",
    "import seaborn as sns\n",
    "\n",
    "from collections import Counter\n",
    "\n",
    "\n",
    "%matplotlib inline\n",
    "\n",
    "sns.set()\n",
    "sns.set(style=\"darkgrid\")\n",
    "\n",
    "import warnings\n",
    "warnings.filterwarnings(\"ignore\")\n",
    "\n",
    "print(\"Hi! This is a grapher :D\")\n",
    "print(\"Available functions: line, scatter, histograph\")\n",
    "print()\n",
    "plotname = str(input(\"Select plot type: \"))\n",
    "plotnamecheck = True\n",
    "while plotnamecheck == True:\n",
    "    if \"line\" in plotname or \"scatter\" in plotname or \"hist\" in plotname:\n",
    "        plotnamecheck = False\n",
    "        break\n",
    "        print()     \n",
    "    else: \n",
    "        print(\"Error! Select an option from the available functions.\")\n",
    "        plotname = str(input(\"Select plot type: \"))\n",
    "        print()\n",
    "        \n",
    "\n",
    "\n",
    "\n",
    "def wowdata(): \n",
    "  if \"line\" in plotname or \"scatter\" in plotname:    \n",
    "    new1 = float(input(\"Input \" + name1 + \" value (number):\")) \n",
    "    new2 = float(input(\"Input \" + name2 + \" value (number):\")) \n",
    "    newdict[name1].append(new1)\n",
    "    newdict[name2].append(new2)\n",
    "  elif \"hist\" in plotname:\n",
    "    new1 = float(input(\"Input \" + name1 + \" value (number):\")) \n",
    "    newdict[name1].append(new1)\n",
    "\n",
    "\n",
    "name1 = str(input(\"Input X axis label: \"))\n",
    "name2 = str(input(\"Input Y axis label: \"))\n",
    "print()\n",
    "newdict = {\n",
    "    name1 : [],\n",
    "    name2 : [],\n",
    "}  \n",
    "wowdata()\n",
    "\n",
    "#CONT data Error bug fixed!\n",
    "cont = str(input(\"Add new data point? (yes/no)\"))\n",
    "print()\n",
    "contcheck = True\n",
    "while contcheck == True:\n",
    "    if \"yes\" in cont:\n",
    "        wowdata()\n",
    "        cont = str(input(\"Add new data point? (yes/no)\"))\n",
    "        print()  \n",
    "    elif \"no\" in cont:\n",
    "        contcheck = False\n",
    "        datatypecheck = False\n",
    "        print()\n",
    "        break    \n",
    "    else: \n",
    "        print(\"Error! Type either yes or no.\")\n",
    "        print()\n",
    "        cont = str(input(\"Add new data point? (yes/no)\"))\n",
    "\n",
    "#checkplotname error check!\n",
    "\n",
    "\n",
    "title = str(input(\"Input plot title: \"))\n",
    "\n",
    "if \"line\" in plotname or \"scatter\" in plotname:\n",
    "    sns.relplot(x=newdict[name1], y=newdict[name2], kind=plotname);\n",
    "elif \"hist\" in plotname:\n",
    "    binnumber = int(input(\"Number of bars/ranges in the histograph: \"))\n",
    "    frequency = Counter(newdict[name1])\n",
    "    print(frequency)\n",
    "    fig = plt.figure()\n",
    "    ax = fig.add_subplot(111)\n",
    "    ax.hist(newdict[name1])\n",
    "    #bins are the number of bars\n",
    "    sns.histplot(newdict[name1], kde=False, color=\"blue\", bins = binnumber)\n",
    "\n",
    "plt.title(title)\n",
    "# ax.set_yticks(np.linspace(0, 10, 10))\n",
    "\n",
    "plt.xlabel(name1)\n",
    "plt.ylabel(name2)\n",
    "plt.show()\n"
   ]
  },
  {
   "cell_type": "code",
   "execution_count": 4,
   "id": "5d6e6966-2f15-487c-ad90-e6e1a3429a2f",
   "metadata": {},
   "outputs": [
    {
     "name": "stdout",
     "output_type": "stream",
     "text": [
      "Hi! This is a grapher :D\n",
      "Available functions: line, scatter, histograph, bargraph (numerical)\n",
      "\n"
     ]
    },
    {
     "name": "stdin",
     "output_type": "stream",
     "text": [
      "Select plot type:  bar\n",
      "Input X axis label:  x\n",
      "Input Y axis label:  y\n"
     ]
    },
    {
     "name": "stdout",
     "output_type": "stream",
     "text": [
      "\n"
     ]
    },
    {
     "name": "stdin",
     "output_type": "stream",
     "text": [
      "Input x value (number): 1\n",
      "Input y value (number): 2\n",
      "Add new data point? (yes/no) ye\n"
     ]
    },
    {
     "name": "stdout",
     "output_type": "stream",
     "text": [
      "\n",
      "Error! Type either yes or no.\n",
      "\n"
     ]
    },
    {
     "name": "stdin",
     "output_type": "stream",
     "text": [
      "Add new data point? (yes/no) yes\n",
      "Input x value (number): 5\n",
      "Input y value (number): 7\n",
      "Add new data point? (yes/no) yes\n"
     ]
    },
    {
     "name": "stdout",
     "output_type": "stream",
     "text": [
      "\n"
     ]
    },
    {
     "name": "stdin",
     "output_type": "stream",
     "text": [
      "Input x value (number): 3\n",
      "Input y value (number): 6\n",
      "Add new data point? (yes/no) yes\n"
     ]
    },
    {
     "name": "stdout",
     "output_type": "stream",
     "text": [
      "\n"
     ]
    },
    {
     "name": "stdin",
     "output_type": "stream",
     "text": [
      "Input x value (number): 6\n",
      "Input y value (number): 7\n",
      "Add new data point? (yes/no) no\n"
     ]
    },
    {
     "name": "stdout",
     "output_type": "stream",
     "text": [
      "\n",
      "\n"
     ]
    },
    {
     "name": "stdin",
     "output_type": "stream",
     "text": [
      "Input plot title:  title\n",
      "Input bar color: red\n"
     ]
    },
    {
     "data": {
      "image/png": "[encoded data removed]",
      "text/plain": [
       "<Figure size 640x480 with 1 Axes>"
      ]
     },
     "metadata": {},
     "output_type": "display_data"
    }
   ],
   "source": [
    "# TO DO:   add bar graph, done\n",
    "import pandas as pd\n",
    "import numpy as np\n",
    "import matplotlib.pyplot as plt\n",
    "import seaborn as sns\n",
    "\n",
    "from collections import Counter\n",
    "\n",
    "\n",
    "%matplotlib inline\n",
    "\n",
    "sns.set()\n",
    "sns.set(style=\"darkgrid\")\n",
    "\n",
    "import warnings\n",
    "warnings.filterwarnings(\"ignore\")\n",
    "\n",
    "print(\"Hi! This is a grapher :D\")\n",
    "print(\"Available functions: line, scatter, histograph, bargraph (numerical)\")\n",
    "print()\n",
    "plotname = str(input(\"Select plot type: \"))\n",
    "plotnamecheck = True\n",
    "while plotnamecheck == True:\n",
    "    if \"line\" in plotname or \"scatter\" in plotname or \"hist\" in plotname or \"bar\" in plotname:\n",
    "        plotnamecheck = False\n",
    "        break\n",
    "        print()     \n",
    "    else: \n",
    "        print(\"Error! Select an option from the available functions.\")\n",
    "        plotname = str(input(\"Select plot type: \"))\n",
    "        print()\n",
    "        \n",
    "\n",
    "\n",
    "\n",
    "def wowdata(): \n",
    "  if \"line\" in plotname or \"scatter\" in plotname or \"bar\" in plotname:    \n",
    "    new1 = float(input(\"Input \" + name1 + \" value (number):\")) \n",
    "    new2 = float(input(\"Input \" + name2 + \" value (number):\")) \n",
    "    newdict[name1].append(new1)\n",
    "    newdict[name2].append(new2)\n",
    "  elif \"hist\" in plotname:\n",
    "    new1 = float(input(\"Input \" + name1 + \" value (number):\")) \n",
    "    newdict[name1].append(new1)\n",
    "\n",
    "\n",
    "name1 = str(input(\"Input X axis label: \"))\n",
    "name2 = str(input(\"Input Y axis label: \"))\n",
    "print()\n",
    "newdict = {\n",
    "    name1 : [],\n",
    "    name2 : [],\n",
    "}  \n",
    "wowdata()\n",
    "\n",
    "#CONT data Error bug fixed!\n",
    "cont = str(input(\"Add new data point? (yes/no)\"))\n",
    "print()\n",
    "contcheck = True\n",
    "while contcheck == True:\n",
    "    if \"yes\" in cont:\n",
    "        wowdata()\n",
    "        cont = str(input(\"Add new data point? (yes/no)\"))\n",
    "        print()  \n",
    "    elif \"no\" in cont:\n",
    "        contcheck = False\n",
    "        datatypecheck = False\n",
    "        print()\n",
    "        break    \n",
    "    else: \n",
    "        print(\"Error! Type either yes or no.\")\n",
    "        print()\n",
    "        cont = str(input(\"Add new data point? (yes/no)\"))\n",
    "\n",
    "#checkplotname error check!\n",
    "\n",
    "\n",
    "title = str(input(\"Input plot title: \"))\n",
    "\n",
    "if \"line\" in plotname or \"scatter\" in plotname:\n",
    "    sns.relplot(x=newdict[name1], y=newdict[name2], kind=plotname);\n",
    "elif \"hist\" in plotname:\n",
    "    binnumber = int(input(\"Number of bars/ranges in the histograph: \"))\n",
    "    frequency = Counter(newdict[name1])\n",
    "    print(frequency)\n",
    "    fig = plt.figure()\n",
    "    ax = fig.add_subplot(111)\n",
    "    ax.hist(newdict[name1])\n",
    "    #bins are the number of bars\n",
    "    sns.histplot(newdict[name1], kde=False, color=\"blue\", bins = binnumber)\n",
    "elif \"bar\" in plotname:\n",
    "    barcolor = str(input(\"Input bar color:\"))\n",
    "    sns.barplot(x=newdict[name1], y=newdict[name2], color=barcolor);\n",
    "\n",
    "plt.title(title)\n",
    "# ax.set_yticks(np.linspace(0, 10, 10))\n",
    "\n",
    "plt.xlabel(name1)\n",
    "plt.ylabel(name2)\n",
    "plt.show()\n"
   ]
  },
  {
   "cell_type": "code",
   "execution_count": null,
   "id": "eaf420e9-4e88-4a76-86c9-c243d9c64494",
   "metadata": {},
   "outputs": [],
   "source": []
  }
 ],
 "metadata": {
  "kernelspec": {
   "display_name": "Python 3 (ipykernel)",
   "language": "python",
   "name": "python3"
  },
  "language_info": {
   "codemirror_mode": {
    "name": "ipython",
    "version": 3
   },
   "file_extension": ".py",
   "mimetype": "text/x-python",
   "name": "python",
   "nbconvert_exporter": "python",
   "pygments_lexer": "ipython3",
   "version": "3.12.7"
  }
 },
 "nbformat": 4,
 "nbformat_minor": 5
}
